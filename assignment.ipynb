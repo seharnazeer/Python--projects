{
  "nbformat": 4,
  "nbformat_minor": 0,
  "metadata": {
    "colab": {
      "provenance": [],
      "authorship_tag": "ABX9TyPJrYsfDkX0QmR9WQatYgg2",
      "include_colab_link": true
    },
    "kernelspec": {
      "name": "python3",
      "display_name": "Python 3"
    },
    "language_info": {
      "name": "python"
    }
  },
  "cells": [
    {
      "cell_type": "markdown",
      "metadata": {
        "id": "view-in-github",
        "colab_type": "text"
      },
      "source": [
        "<a href=\"https://colab.research.google.com/github/seharnazeer/Python--projects/blob/main/assignment.ipynb\" target=\"_parent\"><img src=\"https://colab.research.google.com/assets/colab-badge.svg\" alt=\"Open In Colab\"/></a>"
      ]
    },
    {
      "cell_type": "code",
      "execution_count": 1,
      "metadata": {
        "id": "OsDZq3NuGxvA"
      },
      "outputs": [],
      "source": [
        "from collections import Counter\n",
        "import numpy as np\n",
        "from sklearn.datasets import load_iris\n",
        "import pandas as pd\n",
        "from sklearn.model_selection import train_test_split"
      ]
    },
    {
      "cell_type": "code",
      "source": [
        "class Node:\n",
        "    def __init__(self, feature=None, value=None, results=None, true_branch=None, false_branch=None):\n",
        "        self.feature = feature  # Feature to split on\n",
        "        self.value = value      # Value of the feature to split on\n",
        "        self.results = results  # Stores class labels if node is a leaf node\n",
        "        self.true_branch = true_branch  # Branch for values that are True for the feature\n",
        "        self.false_branch = false_branch  # Branch for values that are False for the feature\n"
      ],
      "metadata": {
        "id": "xmgN64xcNtTY"
      },
      "execution_count": 2,
      "outputs": []
    },
    {
      "cell_type": "code",
      "source": [
        "def entropy(data):\n",
        "    counts = np.bincount(data)\n",
        "    probabilities = counts / len(data)\n",
        "    entropy = -np.sum([p * np.log2(p) for p in probabilities if p > 0])\n",
        "    return entropy\n"
      ],
      "metadata": {
        "id": "yl2NPHzqN0Gj"
      },
      "execution_count": 3,
      "outputs": []
    },
    {
      "cell_type": "code",
      "source": [
        "def split_data(X, y, feature, value):\n",
        "    true_indices = np.where(X[:, feature] <= value)[0]\n",
        "    false_indices = np.where(X[:, feature] > value)[0]\n",
        "    true_X, true_y = X[true_indices], y[true_indices]\n",
        "    false_X, false_y = X[false_indices], y[false_indices]\n",
        "    return true_X, true_y, false_X, false_y\n"
      ],
      "metadata": {
        "id": "zOzGZmn1N2sJ"
      },
      "execution_count": 4,
      "outputs": []
    },
    {
      "cell_type": "code",
      "source": [
        "def build_tree(X, y, max_depth=None, current_depth=0):  # Add max_depth and current_depth parameters\n",
        "    y = y.ravel()\n",
        "    if len(set(y)) == 1 or (max_depth is not None and current_depth >= max_depth): # Check for max_depth condition\n",
        "        return Node(results=y[0])\n",
        "\n",
        "    best_gain = 0\n",
        "    best_criteria = None\n",
        "    best_sets = None\n",
        "    n_features = X.shape[1]\n",
        "\n",
        "    current_entropy = entropy(y)\n",
        "\n",
        "    for feature in range(n_features):\n",
        "        feature_values = set(X[:, feature])\n",
        "        for value in feature_values:\n",
        "            true_X, true_y, false_X, false_y = split_data(X, y, feature, value)\n",
        "            true_entropy = entropy(true_y)\n",
        "            false_entropy = entropy(false_y)\n",
        "            p = len(true_y) / len(y)\n",
        "            gain = current_entropy - p * true_entropy - (1 - p) * false_entropy\n",
        "\n",
        "            if gain > best_gain:\n",
        "                best_gain = gain\n",
        "                best_criteria = (feature, value)\n",
        "                best_sets = (true_X, true_y, false_X, false_y)\n",
        "\n",
        "    if best_gain > 0:\n",
        "        true_branch = build_tree(best_sets[0], best_sets[1], max_depth, current_depth + 1)  # Increment current_depth\n",
        "        false_branch = build_tree(best_sets[2], best_sets[3], max_depth, current_depth + 1) # Increment current_depth\n",
        "        return Node(feature=best_criteria[0], value=best_criteria[1], true_branch=true_branch, false_branch=false_branch)\n",
        "\n",
        "    return Node(results=y[0])"
      ],
      "metadata": {
        "id": "Svg8IWsGN46I"
      },
      "execution_count": 5,
      "outputs": []
    },
    {
      "cell_type": "code",
      "source": [
        "def predict(tree, sample):\n",
        "    if tree.results is not None:\n",
        "        return tree.results\n",
        "    else:\n",
        "        branch = tree.false_branch\n",
        "        if sample[tree.feature] <= tree.value:\n",
        "            branch = tree.true_branch\n",
        "        return predict(branch, sample)\n"
      ],
      "metadata": {
        "id": "Z2Sske4QN6r8"
      },
      "execution_count": 6,
      "outputs": []
    },
    {
      "cell_type": "code",
      "source": [
        "X=pd.DataFrame(load_iris().data, columns=load_iris().feature_names).values\n",
        "y=pd.DataFrame(load_iris().target, columns=[\"species\"]).values.ravel()"
      ],
      "metadata": {
        "id": "cQMb5BJNN84r"
      },
      "execution_count": 7,
      "outputs": []
    },
    {
      "cell_type": "code",
      "source": [
        "X_train, X_test, y_train, y_test = train_test_split(X, y, test_size=0.3, random_state=42)"
      ],
      "metadata": {
        "id": "7idPVapROIaR"
      },
      "execution_count": 8,
      "outputs": []
    },
    {
      "cell_type": "code",
      "source": [
        "decision_tree=build_tree(X_train, y_train, max_depth=4)"
      ],
      "metadata": {
        "id": "Vj4ot705OJpi"
      },
      "execution_count": 32,
      "outputs": []
    },
    {
      "cell_type": "code",
      "source": [
        "decision_tree"
      ],
      "metadata": {
        "colab": {
          "base_uri": "https://localhost:8080/"
        },
        "id": "K-NukDKaOXEm",
        "outputId": "fc3bf4ea-130e-4d36-fbe5-2113c93642f2"
      },
      "execution_count": 33,
      "outputs": [
        {
          "output_type": "execute_result",
          "data": {
            "text/plain": [
              "<__main__.Node at 0x7f25227d37d0>"
            ]
          },
          "metadata": {},
          "execution_count": 33
        }
      ]
    },
    {
      "cell_type": "code",
      "source": [
        "import matplotlib.pyplot as plt\n",
        "\n",
        "def plot_tree(node, x=0, y=0, dx=6, dy=2, level=1, ax=None, parent=None, edge_label=\"\"):\n",
        "    \"\"\"\n",
        "    Recursively plots the decision tree using only Matplotlib.\n",
        "    \"\"\"\n",
        "    if ax is None:\n",
        "        fig, ax = plt.subplots(figsize=(12, 8))\n",
        "        ax.set_xlim(-10, 10)\n",
        "        ax.set_ylim(-10, 2)\n",
        "        ax.axis(\"off\")  # Hide axis\n",
        "\n",
        "    if node is None:\n",
        "        return\n",
        "\n",
        "    # Node label\n",
        "    node_label = f\"{node.feature} <= {node.value}\" if node.feature else f\"Class {node.results}\"\n",
        "\n",
        "    # Draw the current node\n",
        "    ax.text(x, y, node_label, ha=\"center\", bbox=dict(facecolor=\"lightblue\", edgecolor=\"black\"))\n",
        "\n",
        "    if parent:\n",
        "        ax.plot([parent[0], x], [parent[1], y], 'k-', lw=1)  # Draw edge\n",
        "        ax.text((parent[0] + x) / 2, (parent[1] + y) / 2, edge_label, fontsize=10, ha=\"center\", color=\"red\")\n",
        "\n",
        "    # Recursively add branches\n",
        "    left_x, left_y = x - dx / level, y - dy\n",
        "    right_x, right_y = x + dx / level, y - dy\n",
        "\n",
        "    if node.true_branch:\n",
        "        plot_tree(node.true_branch, left_x, left_y, dx, dy, level + 1, ax, (x, y), \"Yes\")\n",
        "\n",
        "    if node.false_branch:\n",
        "        plot_tree(node.false_branch, right_x, right_y, dx, dy, level + 1, ax, (x, y), \"No\")\n",
        "\n",
        "def visualize_tree(root_node):\n",
        "    \"\"\"\n",
        "    Generates and plots the decision tree using Matplotlib.\n",
        "    \"\"\"\n",
        "    plot_tree(root_node)\n",
        "    plt.title(\"Decision Tree Visualization (Matplotlib Only)\")\n",
        "    plt.show()\n",
        "\n",
        "# Call the function with your root node\n",
        "visualize_tree(decision_tree)\n"
      ],
      "metadata": {
        "colab": {
          "base_uri": "https://localhost:8080/",
          "height": 448
        },
        "id": "SAGuIxtjOqXJ",
        "outputId": "2538b0aa-bbad-4e74-e468-dac8a04a264d"
      },
      "execution_count": 34,
      "outputs": [
        {
          "output_type": "display_data",
          "data": {
            "text/plain": [
              "<Figure size 1200x800 with 1 Axes>"
            ],
            "image/png": "[encoded data removed]"
          },
          "metadata": {}
        }
      ]
    },
    {
      "cell_type": "code",
      "source": [
        "pred=predict(decision_tree, X_test[0])"
      ],
      "metadata": {
        "id": "imBkFEWDQl68"
      },
      "execution_count": 35,
      "outputs": []
    },
    {
      "cell_type": "code",
      "source": [
        "pred"
      ],
      "metadata": {
        "colab": {
          "base_uri": "https://localhost:8080/"
        },
        "id": "JA2hUP5vRnc2",
        "outputId": "60769e01-b7a2-4635-9a74-061affb9be59"
      },
      "execution_count": 36,
      "outputs": [
        {
          "output_type": "execute_result",
          "data": {
            "text/plain": [
              "1"
            ]
          },
          "metadata": {},
          "execution_count": 36
        }
      ]
    },
    {
      "cell_type": "code",
      "source": [
        "y_test[0]"
      ],
      "metadata": {
        "colab": {
          "base_uri": "https://localhost:8080/"
        },
        "id": "p1igl9JxRoUq",
        "outputId": "9ac552b0-c569-496c-8b8e-933ec5d5dd51"
      },
      "execution_count": 37,
      "outputs": [
        {
          "output_type": "execute_result",
          "data": {
            "text/plain": [
              "1"
            ]
          },
          "metadata": {},
          "execution_count": 37
        }
      ]
    },
    {
      "cell_type": "code",
      "source": [
        "pred=[]\n",
        "for i in X_test:\n",
        "    pred.append(predict(decision_tree, i))"
      ],
      "metadata": {
        "id": "P_jU0MZ2RrFv"
      },
      "execution_count": 38,
      "outputs": []
    },
    {
      "cell_type": "code",
      "source": [
        "from sklearn.metrics import confusion_matrix, accuracy_score,f1_score,recall_score,precision_score"
      ],
      "metadata": {
        "id": "8Bxk00B8R_IS"
      },
      "execution_count": 39,
      "outputs": []
    },
    {
      "cell_type": "code",
      "source": [
        "f1_score(y_test, pred, average='macro')"
      ],
      "metadata": {
        "colab": {
          "base_uri": "https://localhost:8080/"
        },
        "id": "jOVXVeCoSILn",
        "outputId": "33db4974-760b-4b51-a7f8-1e25c820f29b"
      },
      "execution_count": 40,
      "outputs": [
        {
          "output_type": "execute_result",
          "data": {
            "text/plain": [
              "0.9484126984126983"
            ]
          },
          "metadata": {},
          "execution_count": 40
        }
      ]
    },
    {
      "cell_type": "code",
      "source": [
        "precision_score(y_test, pred, average='macro')"
      ],
      "metadata": {
        "colab": {
          "base_uri": "https://localhost:8080/"
        },
        "id": "PFO5tLbhSMLA",
        "outputId": "499a76c2-c6c3-4f3a-9bac-6eeedb0feeaa"
      },
      "execution_count": 41,
      "outputs": [
        {
          "output_type": "execute_result",
          "data": {
            "text/plain": [
              "0.9555555555555556"
            ]
          },
          "metadata": {},
          "execution_count": 41
        }
      ]
    },
    {
      "cell_type": "code",
      "source": [
        "confusion_matrix(y_test, pred)"
      ],
      "metadata": {
        "colab": {
          "base_uri": "https://localhost:8080/"
        },
        "id": "xySDYt1USSpC",
        "outputId": "ccacb3b3-2348-41ee-a4c8-77ff0bdcdc90"
      },
      "execution_count": 42,
      "outputs": [
        {
          "output_type": "execute_result",
          "data": {
            "text/plain": [
              "array([[19,  0,  0],\n",
              "       [ 0, 11,  2],\n",
              "       [ 0,  0, 13]])"
            ]
          },
          "metadata": {},
          "execution_count": 42
        }
      ]
    },
    {
      "cell_type": "markdown",
      "source": [
        "Implement Cart Algorithm\n",
        "- there deciding parameter is gini index"
      ],
      "metadata": {
        "id": "NQDdS26nc19W"
      }
    },
    {
      "cell_type": "code",
      "source": [
        "def gini(data):\n",
        "    counts = np.bincount(data)\n",
        "    probabilities = counts / len(data)\n",
        "    gini = 1 - np.sum(probabilities**2)\n",
        "    return gini"
      ],
      "metadata": {
        "id": "oJT3cGBEctGm"
      },
      "execution_count": 43,
      "outputs": []
    },
    {
      "cell_type": "code",
      "source": [
        "def build_tree(X, y, max_depth=None, current_depth=0):  # Add max_depth and current_depth parameters\n",
        "    y = y.ravel()\n",
        "    if len(set(y)) == 1 or (max_depth is not None and current_depth >= max_depth): # Check for max_depth condition\n",
        "        return Node(results=y[0])\n",
        "\n",
        "    best_gini = 1  # Initialize with the maximum possible Gini impurity\n",
        "    best_criteria = None\n",
        "    best_sets = None\n",
        "    n_features = X.shape[1]\n",
        "\n",
        "    current_gini = gini(y)\n",
        "\n",
        "    for feature in range(n_features):\n",
        "        feature_values = set(X[:, feature])\n",
        "        for value in feature_values:\n",
        "            true_X, true_y, false_X, false_y = split_data(X, y, feature, value)\n",
        "            p = len(true_y) / len(y)\n",
        "            gini_split = p * gini(true_y) + (1 - p) * gini(false_y)\n",
        "\n",
        "            if gini_split < best_gini:\n",
        "                best_gini = gini_split\n",
        "                best_criteria = (feature, value)\n",
        "                best_sets = (true_X, true_y, false_X, false_y)\n",
        "\n",
        "    if best_gini < current_gini:\n",
        "        true_branch = build_tree(best_sets[0], best_sets[1], max_depth, current_depth + 1)  # Increment current_depth\n",
        "        false_branch = build_tree(best_sets[2], best_sets[3], max_depth, current_depth + 1) # Increment current_depth\n",
        "        return Node(feature=best_criteria[0], value=best_criteria[1], true_branch=true_branch, false_branch=false_branch)\n",
        "\n",
        "    return Node(results=y[0])"
      ],
      "metadata": {
        "id": "UEHlDl8tcvrU"
      },
      "execution_count": 44,
      "outputs": []
    },
    {
      "cell_type": "code",
      "source": [
        "cart_tree=build_tree(X_train, y_train, max_depth=3)"
      ],
      "metadata": {
        "id": "OUjrXFk8cyda"
      },
      "execution_count": 45,
      "outputs": []
    },
    {
      "cell_type": "code",
      "source": [
        "plot_tree(cart_tree)"
      ],
      "metadata": {
        "colab": {
          "base_uri": "https://localhost:8080/",
          "height": 461
        },
        "id": "FAM42MASdHom",
        "outputId": "78323fe9-dd4f-4ee4-e100-24e231d214ef"
      },
      "execution_count": 46,
      "outputs": [
        {
          "output_type": "display_data",
          "data": {
            "text/plain": [
              "<Figure size 1200x800 with 1 Axes>"
            ],
            "image/png": "[encoded data removed]"
          },
          "metadata": {}
        }
      ]
    },
    {
      "cell_type": "code",
      "source": [
        "cart_pred=[]\n",
        "for i in X_test:\n",
        "    cart_pred.append(predict(cart_tree, i))"
      ],
      "metadata": {
        "id": "_f61mWnNdPQW"
      },
      "execution_count": 47,
      "outputs": []
    },
    {
      "cell_type": "code",
      "source": [
        "confusion_matrix(y_test, pred)"
      ],
      "metadata": {
        "colab": {
          "base_uri": "https://localhost:8080/"
        },
        "id": "GG_leenFdJcL",
        "outputId": "dc3ad916-1eef-47d7-e87a-3eea2440bff8"
      },
      "execution_count": 48,
      "outputs": [
        {
          "output_type": "execute_result",
          "data": {
            "text/plain": [
              "array([[19,  0,  0],\n",
              "       [ 0, 11,  2],\n",
              "       [ 0,  0, 13]])"
            ]
          },
          "metadata": {},
          "execution_count": 48
        }
      ]
    },
    {
      "cell_type": "code",
      "source": [
        "precision_score(cart_pred, y_test, average='macro')"
      ],
      "metadata": {
        "colab": {
          "base_uri": "https://localhost:8080/"
        },
        "id": "r7iL_CjsdSED",
        "outputId": "84172483-ed3f-4018-c3be-1c852584912a"
      },
      "execution_count": 49,
      "outputs": [
        {
          "output_type": "execute_result",
          "data": {
            "text/plain": [
              "0.923076923076923"
            ]
          },
          "metadata": {},
          "execution_count": 49
        }
      ]
    },
    {
      "cell_type": "code",
      "source": [
        "accuracy_score(cart_pred, y_test)"
      ],
      "metadata": {
        "colab": {
          "base_uri": "https://localhost:8080/"
        },
        "id": "t59JLT-8dWoM",
        "outputId": "f3c41a93-3d2b-4cfa-fcfc-6f59588a2906"
      },
      "execution_count": 50,
      "outputs": [
        {
          "output_type": "execute_result",
          "data": {
            "text/plain": [
              "0.9333333333333333"
            ]
          },
          "metadata": {},
          "execution_count": 50
        }
      ]
    },
    {
      "cell_type": "code",
      "source": [
        "recall_score(cart_pred, y_test, average='macro')"
      ],
      "metadata": {
        "colab": {
          "base_uri": "https://localhost:8080/"
        },
        "id": "14iSU5tEdpQL",
        "outputId": "212bb06f-ecc0-4d28-f4f2-55441289b7e5"
      },
      "execution_count": 51,
      "outputs": [
        {
          "output_type": "execute_result",
          "data": {
            "text/plain": [
              "0.9375"
            ]
          },
          "metadata": {},
          "execution_count": 51
        }
      ]
    },
    {
      "cell_type": "markdown",
      "source": [
        "The performance of both algorithms almost same with this dataset .\n",
        "- max depth of the tree matters alot role in the overfitting and underfitting situation .\n",
        "- i set it to 4 to get generalized results."
      ],
      "metadata": {
        "id": "pz5eKCWhd28z"
      }
    },
    {
      "cell_type": "markdown",
      "source": [
        "# ***Question no. 2***\n",
        "\n",
        "---\n",
        "\n"
      ],
      "metadata": {
        "id": "iQBoCQWveYFY"
      }
    },
    {
      "cell_type": "code",
      "source": [
        "class AdaBoost:\n",
        "    def __init__(self, n_estimators=50):\n",
        "        self.n_estimators = n_estimators\n",
        "        self.alphas = []\n",
        "        self.models = []\n",
        "\n",
        "    def fit(self, X, y):\n",
        "        n_samples, n_features = X.shape\n",
        "        w = np.ones(n_samples) / n_samples\n",
        "        for _ in range(self.n_estimators):\n",
        "            # Use the existing build_tree function\n",
        "            model = build_tree(X, y,max_depth=4) # Use X, y instead of X_train, y_train here\n",
        "            predictions = np.array([predict(model, x) for x in X])\n",
        "            err = np.sum(w * (predictions != y)) / np.sum(w)\n",
        "            alpha = 0.5 * np.log((1 - err) / (err + 1e-10))\n",
        "            self.alphas.append(alpha)\n",
        "            self.models.append(model)\n",
        "            print(self.alphas)\n",
        "            print(self.models)\n",
        "            w = w * np.exp(-alpha * y * predictions)\n",
        "            w = w / np.sum(w)\n",
        "\n",
        "    def predict(self, X):\n",
        "        n_samples = X.shape[0]\n",
        "        y_pred = np.zeros(n_samples)\n",
        "        for alpha, model in zip(self.alphas, self.models):\n",
        "            predictions = np.array([predict(model, x) for x in X])\n",
        "            y_pred += alpha * predictions\n",
        "        return np.sign(y_pred)\n",
        "\n",
        "\n"
      ],
      "metadata": {
        "id": "RrZRVdwKd1Pn"
      },
      "execution_count": 104,
      "outputs": []
    },
    {
      "cell_type": "code",
      "source": [],
      "metadata": {
        "id": "llEFEIPEiqhQ"
      },
      "execution_count": 104,
      "outputs": []
    },
    {
      "cell_type": "code",
      "source": [
        "adaboost = AdaBoost(n_estimators=20)\n",
        "\n",
        "# Train the classifier\n",
        "adaboost.fit(X_train, y_train)\n",
        "\n",
        "# Make predictions on the test set\n",
        "y_pred_adaboost = adaboost.predict(X_test)\n",
        "\n",
        "\n",
        "# Evaluate the classifier\n",
        "accuracy = accuracy_score(y_test, y_pred_adaboost)\n",
        "print(\"Accuracy:\", accuracy)"
      ],
      "metadata": {
        "colab": {
          "base_uri": "https://localhost:8080/"
        },
        "id": "dGdHE1TwgsRR",
        "outputId": "bb67f6c9-5592-49d5-c312-393843e0f670"
      },
      "execution_count": 105,
      "outputs": [
        {
          "output_type": "stream",
          "name": "stdout",
          "text": [
            "[1.7631802605580804]\n",
            "[<__main__.Node object at 0x7f251c412810>]\n",
            "[1.7631802605580804, 3.0174777057919058]\n",
            "[<__main__.Node object at 0x7f251c412810>, <__main__.Node object at 0x7f251c648d50>]\n",
            "[1.7631802605580804, 3.0174777057919058, 5.952918207386976]\n",
            "[<__main__.Node object at 0x7f251c412810>, <__main__.Node object at 0x7f251c648d50>, <__main__.Node object at 0x7f251cd86c90>]\n",
            "[1.7631802605580804, 3.0174777057919058, 5.952918207386976, 11.32373425535788]\n",
            "[<__main__.Node object at 0x7f251c412810>, <__main__.Node object at 0x7f251c648d50>, <__main__.Node object at 0x7f251cd86c90>, <__main__.Node object at 0x7f251cdcc910>]\n",
            "[1.7631802605580804, 3.0174777057919058, 5.952918207386976, 11.32373425535788, 11.512925464936655]\n",
            "[<__main__.Node object at 0x7f251c412810>, <__main__.Node object at 0x7f251c648d50>, <__main__.Node object at 0x7f251cd86c90>, <__main__.Node object at 0x7f251cdcc910>, <__main__.Node object at 0x7f251c18c110>]\n",
            "[1.7631802605580804, 3.0174777057919058, 5.952918207386976, 11.32373425535788, 11.512925464936655, 11.512925464970229]\n",
            "[<__main__.Node object at 0x7f251c412810>, <__main__.Node object at 0x7f251c648d50>, <__main__.Node object at 0x7f251cd86c90>, <__main__.Node object at 0x7f251cdcc910>, <__main__.Node object at 0x7f251c18c110>, <__main__.Node object at 0x7f251cd9db90>]\n",
            "[1.7631802605580804, 3.0174777057919058, 5.952918207386976, 11.32373425535788, 11.512925464936655, 11.512925464970229, 11.512925464970229]\n",
            "[<__main__.Node object at 0x7f251c412810>, <__main__.Node object at 0x7f251c648d50>, <__main__.Node object at 0x7f251cd86c90>, <__main__.Node object at 0x7f251cdcc910>, <__main__.Node object at 0x7f251c18c110>, <__main__.Node object at 0x7f251cd9db90>, <__main__.Node object at 0x7f251c1ceed0>]\n",
            "[1.7631802605580804, 3.0174777057919058, 5.952918207386976, 11.32373425535788, 11.512925464936655, 11.512925464970229, 11.512925464970229, 11.512925464970229]\n",
            "[<__main__.Node object at 0x7f251c412810>, <__main__.Node object at 0x7f251c648d50>, <__main__.Node object at 0x7f251cd86c90>, <__main__.Node object at 0x7f251cdcc910>, <__main__.Node object at 0x7f251c18c110>, <__main__.Node object at 0x7f251cd9db90>, <__main__.Node object at 0x7f251c1ceed0>, <__main__.Node object at 0x7f251cdb4c50>]\n",
            "[1.7631802605580804, 3.0174777057919058, 5.952918207386976, 11.32373425535788, 11.512925464936655, 11.512925464970229, 11.512925464970229, 11.512925464970229, 11.512925464970229]\n",
            "[<__main__.Node object at 0x7f251c412810>, <__main__.Node object at 0x7f251c648d50>, <__main__.Node object at 0x7f251cd86c90>, <__main__.Node object at 0x7f251cdcc910>, <__main__.Node object at 0x7f251c18c110>, <__main__.Node object at 0x7f251cd9db90>, <__main__.Node object at 0x7f251c1ceed0>, <__main__.Node object at 0x7f251cdb4c50>, <__main__.Node object at 0x7f251cdb6190>]\n",
            "[1.7631802605580804, 3.0174777057919058, 5.952918207386976, 11.32373425535788, 11.512925464936655, 11.512925464970229, 11.512925464970229, 11.512925464970229, 11.512925464970229, 11.512925464970229]\n",
            "[<__main__.Node object at 0x7f251c412810>, <__main__.Node object at 0x7f251c648d50>, <__main__.Node object at 0x7f251cd86c90>, <__main__.Node object at 0x7f251cdcc910>, <__main__.Node object at 0x7f251c18c110>, <__main__.Node object at 0x7f251cd9db90>, <__main__.Node object at 0x7f251c1ceed0>, <__main__.Node object at 0x7f251cdb4c50>, <__main__.Node object at 0x7f251cdb6190>, <__main__.Node object at 0x7f251cdb7790>]\n",
            "[1.7631802605580804, 3.0174777057919058, 5.952918207386976, 11.32373425535788, 11.512925464936655, 11.512925464970229, 11.512925464970229, 11.512925464970229, 11.512925464970229, 11.512925464970229, 11.512925464970229]\n",
            "[<__main__.Node object at 0x7f251c412810>, <__main__.Node object at 0x7f251c648d50>, <__main__.Node object at 0x7f251cd86c90>, <__main__.Node object at 0x7f251cdcc910>, <__main__.Node object at 0x7f251c18c110>, <__main__.Node object at 0x7f251cd9db90>, <__main__.Node object at 0x7f251c1ceed0>, <__main__.Node object at 0x7f251cdb4c50>, <__main__.Node object at 0x7f251cdb6190>, <__main__.Node object at 0x7f251cdb7790>, <__main__.Node object at 0x7f251c271490>]\n",
            "[1.7631802605580804, 3.0174777057919058, 5.952918207386976, 11.32373425535788, 11.512925464936655, 11.512925464970229, 11.512925464970229, 11.512925464970229, 11.512925464970229, 11.512925464970229, 11.512925464970229, 11.512925464970229]\n",
            "[<__main__.Node object at 0x7f251c412810>, <__main__.Node object at 0x7f251c648d50>, <__main__.Node object at 0x7f251cd86c90>, <__main__.Node object at 0x7f251cdcc910>, <__main__.Node object at 0x7f251c18c110>, <__main__.Node object at 0x7f251cd9db90>, <__main__.Node object at 0x7f251c1ceed0>, <__main__.Node object at 0x7f251cdb4c50>, <__main__.Node object at 0x7f251cdb6190>, <__main__.Node object at 0x7f251cdb7790>, <__main__.Node object at 0x7f251c271490>, <__main__.Node object at 0x7f251c273690>]\n",
            "[1.7631802605580804, 3.0174777057919058, 5.952918207386976, 11.32373425535788, 11.512925464936655, 11.512925464970229, 11.512925464970229, 11.512925464970229, 11.512925464970229, 11.512925464970229, 11.512925464970229, 11.512925464970229, 11.512925464970229]\n",
            "[<__main__.Node object at 0x7f251c412810>, <__main__.Node object at 0x7f251c648d50>, <__main__.Node object at 0x7f251cd86c90>, <__main__.Node object at 0x7f251cdcc910>, <__main__.Node object at 0x7f251c18c110>, <__main__.Node object at 0x7f251cd9db90>, <__main__.Node object at 0x7f251c1ceed0>, <__main__.Node object at 0x7f251cdb4c50>, <__main__.Node object at 0x7f251cdb6190>, <__main__.Node object at 0x7f251cdb7790>, <__main__.Node object at 0x7f251c271490>, <__main__.Node object at 0x7f251c273690>, <__main__.Node object at 0x7f251c273990>]\n",
            "[1.7631802605580804, 3.0174777057919058, 5.952918207386976, 11.32373425535788, 11.512925464936655, 11.512925464970229, 11.512925464970229, 11.512925464970229, 11.512925464970229, 11.512925464970229, 11.512925464970229, 11.512925464970229, 11.512925464970229, 11.512925464970229]\n",
            "[<__main__.Node object at 0x7f251c412810>, <__main__.Node object at 0x7f251c648d50>, <__main__.Node object at 0x7f251cd86c90>, <__main__.Node object at 0x7f251cdcc910>, <__main__.Node object at 0x7f251c18c110>, <__main__.Node object at 0x7f251cd9db90>, <__main__.Node object at 0x7f251c1ceed0>, <__main__.Node object at 0x7f251cdb4c50>, <__main__.Node object at 0x7f251cdb6190>, <__main__.Node object at 0x7f251cdb7790>, <__main__.Node object at 0x7f251c271490>, <__main__.Node object at 0x7f251c273690>, <__main__.Node object at 0x7f251c273990>, <__main__.Node object at 0x7f251cda5290>]\n",
            "[1.7631802605580804, 3.0174777057919058, 5.952918207386976, 11.32373425535788, 11.512925464936655, 11.512925464970229, 11.512925464970229, 11.512925464970229, 11.512925464970229, 11.512925464970229, 11.512925464970229, 11.512925464970229, 11.512925464970229, 11.512925464970229, 11.512925464970229]\n",
            "[<__main__.Node object at 0x7f251c412810>, <__main__.Node object at 0x7f251c648d50>, <__main__.Node object at 0x7f251cd86c90>, <__main__.Node object at 0x7f251cdcc910>, <__main__.Node object at 0x7f251c18c110>, <__main__.Node object at 0x7f251cd9db90>, <__main__.Node object at 0x7f251c1ceed0>, <__main__.Node object at 0x7f251cdb4c50>, <__main__.Node object at 0x7f251cdb6190>, <__main__.Node object at 0x7f251cdb7790>, <__main__.Node object at 0x7f251c271490>, <__main__.Node object at 0x7f251c273690>, <__main__.Node object at 0x7f251c273990>, <__main__.Node object at 0x7f251cda5290>, <__main__.Node object at 0x7f251cda5d50>]\n",
            "[1.7631802605580804, 3.0174777057919058, 5.952918207386976, 11.32373425535788, 11.512925464936655, 11.512925464970229, 11.512925464970229, 11.512925464970229, 11.512925464970229, 11.512925464970229, 11.512925464970229, 11.512925464970229, 11.512925464970229, 11.512925464970229, 11.512925464970229, 11.512925464970229]\n",
            "[<__main__.Node object at 0x7f251c412810>, <__main__.Node object at 0x7f251c648d50>, <__main__.Node object at 0x7f251cd86c90>, <__main__.Node object at 0x7f251cdcc910>, <__main__.Node object at 0x7f251c18c110>, <__main__.Node object at 0x7f251cd9db90>, <__main__.Node object at 0x7f251c1ceed0>, <__main__.Node object at 0x7f251cdb4c50>, <__main__.Node object at 0x7f251cdb6190>, <__main__.Node object at 0x7f251cdb7790>, <__main__.Node object at 0x7f251c271490>, <__main__.Node object at 0x7f251c273690>, <__main__.Node object at 0x7f251c273990>, <__main__.Node object at 0x7f251cda5290>, <__main__.Node object at 0x7f251cda5d50>, <__main__.Node object at 0x7f251cda5310>]\n",
            "[1.7631802605580804, 3.0174777057919058, 5.952918207386976, 11.32373425535788, 11.512925464936655, 11.512925464970229, 11.512925464970229, 11.512925464970229, 11.512925464970229, 11.512925464970229, 11.512925464970229, 11.512925464970229, 11.512925464970229, 11.512925464970229, 11.512925464970229, 11.512925464970229, 11.512925464970229]\n",
            "[<__main__.Node object at 0x7f251c412810>, <__main__.Node object at 0x7f251c648d50>, <__main__.Node object at 0x7f251cd86c90>, <__main__.Node object at 0x7f251cdcc910>, <__main__.Node object at 0x7f251c18c110>, <__main__.Node object at 0x7f251cd9db90>, <__main__.Node object at 0x7f251c1ceed0>, <__main__.Node object at 0x7f251cdb4c50>, <__main__.Node object at 0x7f251cdb6190>, <__main__.Node object at 0x7f251cdb7790>, <__main__.Node object at 0x7f251c271490>, <__main__.Node object at 0x7f251c273690>, <__main__.Node object at 0x7f251c273990>, <__main__.Node object at 0x7f251cda5290>, <__main__.Node object at 0x7f251cda5d50>, <__main__.Node object at 0x7f251cda5310>, <__main__.Node object at 0x7f251c189950>]\n",
            "[1.7631802605580804, 3.0174777057919058, 5.952918207386976, 11.32373425535788, 11.512925464936655, 11.512925464970229, 11.512925464970229, 11.512925464970229, 11.512925464970229, 11.512925464970229, 11.512925464970229, 11.512925464970229, 11.512925464970229, 11.512925464970229, 11.512925464970229, 11.512925464970229, 11.512925464970229, 11.512925464970229]\n",
            "[<__main__.Node object at 0x7f251c412810>, <__main__.Node object at 0x7f251c648d50>, <__main__.Node object at 0x7f251cd86c90>, <__main__.Node object at 0x7f251cdcc910>, <__main__.Node object at 0x7f251c18c110>, <__main__.Node object at 0x7f251cd9db90>, <__main__.Node object at 0x7f251c1ceed0>, <__main__.Node object at 0x7f251cdb4c50>, <__main__.Node object at 0x7f251cdb6190>, <__main__.Node object at 0x7f251cdb7790>, <__main__.Node object at 0x7f251c271490>, <__main__.Node object at 0x7f251c273690>, <__main__.Node object at 0x7f251c273990>, <__main__.Node object at 0x7f251cda5290>, <__main__.Node object at 0x7f251cda5d50>, <__main__.Node object at 0x7f251cda5310>, <__main__.Node object at 0x7f251c189950>, <__main__.Node object at 0x7f251c18a150>]\n",
            "[1.7631802605580804, 3.0174777057919058, 5.952918207386976, 11.32373425535788, 11.512925464936655, 11.512925464970229, 11.512925464970229, 11.512925464970229, 11.512925464970229, 11.512925464970229, 11.512925464970229, 11.512925464970229, 11.512925464970229, 11.512925464970229, 11.512925464970229, 11.512925464970229, 11.512925464970229, 11.512925464970229, 11.512925464970229]\n",
            "[<__main__.Node object at 0x7f251c412810>, <__main__.Node object at 0x7f251c648d50>, <__main__.Node object at 0x7f251cd86c90>, <__main__.Node object at 0x7f251cdcc910>, <__main__.Node object at 0x7f251c18c110>, <__main__.Node object at 0x7f251cd9db90>, <__main__.Node object at 0x7f251c1ceed0>, <__main__.Node object at 0x7f251cdb4c50>, <__main__.Node object at 0x7f251cdb6190>, <__main__.Node object at 0x7f251cdb7790>, <__main__.Node object at 0x7f251c271490>, <__main__.Node object at 0x7f251c273690>, <__main__.Node object at 0x7f251c273990>, <__main__.Node object at 0x7f251cda5290>, <__main__.Node object at 0x7f251cda5d50>, <__main__.Node object at 0x7f251cda5310>, <__main__.Node object at 0x7f251c189950>, <__main__.Node object at 0x7f251c18a150>, <__main__.Node object at 0x7f251c6b2890>]\n",
            "[1.7631802605580804, 3.0174777057919058, 5.952918207386976, 11.32373425535788, 11.512925464936655, 11.512925464970229, 11.512925464970229, 11.512925464970229, 11.512925464970229, 11.512925464970229, 11.512925464970229, 11.512925464970229, 11.512925464970229, 11.512925464970229, 11.512925464970229, 11.512925464970229, 11.512925464970229, 11.512925464970229, 11.512925464970229, 11.512925464970229]\n",
            "[<__main__.Node object at 0x7f251c412810>, <__main__.Node object at 0x7f251c648d50>, <__main__.Node object at 0x7f251cd86c90>, <__main__.Node object at 0x7f251cdcc910>, <__main__.Node object at 0x7f251c18c110>, <__main__.Node object at 0x7f251cd9db90>, <__main__.Node object at 0x7f251c1ceed0>, <__main__.Node object at 0x7f251cdb4c50>, <__main__.Node object at 0x7f251cdb6190>, <__main__.Node object at 0x7f251cdb7790>, <__main__.Node object at 0x7f251c271490>, <__main__.Node object at 0x7f251c273690>, <__main__.Node object at 0x7f251c273990>, <__main__.Node object at 0x7f251cda5290>, <__main__.Node object at 0x7f251cda5d50>, <__main__.Node object at 0x7f251cda5310>, <__main__.Node object at 0x7f251c189950>, <__main__.Node object at 0x7f251c18a150>, <__main__.Node object at 0x7f251c6b2890>, <__main__.Node object at 0x7f251cdaf010>]\n",
            "Accuracy: 0.7111111111111111\n"
          ]
        }
      ]
    },
    {
      "cell_type": "code",
      "source": [],
      "metadata": {
        "id": "5QhbxVaNkOvj"
      },
      "execution_count": null,
      "outputs": []
    },
    {
      "cell_type": "code",
      "source": [],
      "metadata": {
        "id": "vqs3e695mpZi"
      },
      "execution_count": null,
      "outputs": []
    }
  ]
}