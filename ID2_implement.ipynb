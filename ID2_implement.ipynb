{
  "nbformat": 4,
  "nbformat_minor": 0,
  "metadata": {
    "colab": {
      "provenance": [],
      "authorship_tag": "ABX9TyOmA5Ku+dwPe0bTfUhM70KU",
      "include_colab_link": true
    },
    "kernelspec": {
      "name": "python3",
      "display_name": "Python 3"
    },
    "language_info": {
      "name": "python"
    }
  },
  "cells": [
    {
      "cell_type": "markdown",
      "metadata": {
        "id": "view-in-github",
        "colab_type": "text"
      },
      "source": [
        "<a href=\"https://colab.research.google.com/github/seharnazeer/Python--projects/blob/main/ID2_implement.ipynb\" target=\"_parent\"><img src=\"https://colab.research.google.com/assets/colab-badge.svg\" alt=\"Open In Colab\"/></a>"
      ]
    },
    {
      "cell_type": "code",
      "execution_count": 12,
      "metadata": {
        "id": "OsDZq3NuGxvA"
      },
      "outputs": [],
      "source": [
        "from collections import Counter\n",
        "import numpy as np\n",
        "from sklearn.datasets import load_iris\n",
        "import pandas as pd\n",
        "from sklearn.model_selection import train_test_split"
      ]
    },
    {
      "cell_type": "code",
      "source": [
        "class Node:\n",
        "    def __init__(self, feature=None, value=None, results=None, true_branch=None, false_branch=None):\n",
        "        self.feature = feature  # Feature to split on\n",
        "        self.value = value      # Value of the feature to split on\n",
        "        self.results = results  # Stores class labels if node is a leaf node\n",
        "        self.true_branch = true_branch  # Branch for values that are True for the feature\n",
        "        self.false_branch = false_branch  # Branch for values that are False for the feature\n"
      ],
      "metadata": {
        "id": "xmgN64xcNtTY"
      },
      "execution_count": 3,
      "outputs": []
    },
    {
      "cell_type": "code",
      "source": [
        "def entropy(data):\n",
        "    counts = np.bincount(data)\n",
        "    probabilities = counts / len(data)\n",
        "    entropy = -np.sum([p * np.log2(p) for p in probabilities if p > 0])\n",
        "    return entropy\n"
      ],
      "metadata": {
        "id": "yl2NPHzqN0Gj"
      },
      "execution_count": 4,
      "outputs": []
    },
    {
      "cell_type": "code",
      "source": [
        "def split_data(X, y, feature, value):\n",
        "    true_indices = np.where(X[:, feature] <= value)[0]\n",
        "    false_indices = np.where(X[:, feature] > value)[0]\n",
        "    true_X, true_y = X[true_indices], y[true_indices]\n",
        "    false_X, false_y = X[false_indices], y[false_indices]\n",
        "    return true_X, true_y, false_X, false_y\n"
      ],
      "metadata": {
        "id": "zOzGZmn1N2sJ"
      },
      "execution_count": 5,
      "outputs": []
    },
    {
      "cell_type": "code",
      "source": [
        "def build_tree(X, y, max_depth=None, current_depth=0):  # Add max_depth and current_depth parameters\n",
        "    y = y.ravel()\n",
        "    if len(set(y)) == 1 or (max_depth is not None and current_depth >= max_depth): # Check for max_depth condition\n",
        "        return Node(results=y[0])\n",
        "\n",
        "    best_gain = 0\n",
        "    best_criteria = None\n",
        "    best_sets = None\n",
        "    n_features = X.shape[1]\n",
        "\n",
        "    current_entropy = entropy(y)\n",
        "\n",
        "    for feature in range(n_features):\n",
        "        feature_values = set(X[:, feature])\n",
        "        for value in feature_values:\n",
        "            true_X, true_y, false_X, false_y = split_data(X, y, feature, value)\n",
        "            true_entropy = entropy(true_y)\n",
        "            false_entropy = entropy(false_y)\n",
        "            p = len(true_y) / len(y)\n",
        "            gain = current_entropy - p * true_entropy - (1 - p) * false_entropy\n",
        "\n",
        "            if gain > best_gain:\n",
        "                best_gain = gain\n",
        "                best_criteria = (feature, value)\n",
        "                best_sets = (true_X, true_y, false_X, false_y)\n",
        "\n",
        "    if best_gain > 0:\n",
        "        true_branch = build_tree(best_sets[0], best_sets[1], max_depth, current_depth + 1)  # Increment current_depth\n",
        "        false_branch = build_tree(best_sets[2], best_sets[3], max_depth, current_depth + 1) # Increment current_depth\n",
        "        return Node(feature=best_criteria[0], value=best_criteria[1], true_branch=true_branch, false_branch=false_branch)\n",
        "\n",
        "    return Node(results=y[0])"
      ],
      "metadata": {
        "id": "Svg8IWsGN46I"
      },
      "execution_count": 33,
      "outputs": []
    },
    {
      "cell_type": "code",
      "source": [
        "def predict(tree, sample):\n",
        "    if tree.results is not None:\n",
        "        return tree.results\n",
        "    else:\n",
        "        branch = tree.false_branch\n",
        "        if sample[tree.feature] <= tree.value:\n",
        "            branch = tree.true_branch\n",
        "        return predict(branch, sample)\n"
      ],
      "metadata": {
        "id": "Z2Sske4QN6r8"
      },
      "execution_count": 34,
      "outputs": []
    },
    {
      "cell_type": "code",
      "source": [
        "X=pd.DataFrame(load_iris().data, columns=load_iris().feature_names).values\n",
        "y=pd.DataFrame(load_iris().target, columns=[\"species\"]).values.ravel()"
      ],
      "metadata": {
        "id": "cQMb5BJNN84r"
      },
      "execution_count": 35,
      "outputs": []
    },
    {
      "cell_type": "code",
      "source": [
        "X_train, X_test, y_train, y_test = train_test_split(X, y, test_size=0.2, random_state=42)"
      ],
      "metadata": {
        "id": "7idPVapROIaR"
      },
      "execution_count": 36,
      "outputs": []
    },
    {
      "cell_type": "code",
      "source": [
        "decision_tree=build_tree(X_train, y_train, max_depth=4)"
      ],
      "metadata": {
        "id": "Vj4ot705OJpi"
      },
      "execution_count": 40,
      "outputs": []
    },
    {
      "cell_type": "code",
      "source": [
        "decision_tree"
      ],
      "metadata": {
        "colab": {
          "base_uri": "https://localhost:8080/"
        },
        "id": "K-NukDKaOXEm",
        "outputId": "1a924278-ca9b-4f11-843c-1cf924b68cf2"
      },
      "execution_count": 41,
      "outputs": [
        {
          "output_type": "execute_result",
          "data": {
            "text/plain": [
              "<__main__.Node at 0x7bf7c36674d0>"
            ]
          },
          "metadata": {},
          "execution_count": 41
        }
      ]
    },
    {
      "cell_type": "code",
      "source": [
        "import matplotlib.pyplot as plt\n",
        "\n",
        "def plot_tree(node, x=0, y=0, dx=6, dy=2, level=1, ax=None, parent=None, edge_label=\"\"):\n",
        "    \"\"\"\n",
        "    Recursively plots the decision tree using only Matplotlib.\n",
        "    \"\"\"\n",
        "    if ax is None:\n",
        "        fig, ax = plt.subplots(figsize=(12, 8))\n",
        "        ax.set_xlim(-10, 10)\n",
        "        ax.set_ylim(-10, 2)\n",
        "        ax.axis(\"off\")  # Hide axis\n",
        "\n",
        "    if node is None:\n",
        "        return\n",
        "\n",
        "    # Node label\n",
        "    node_label = f\"{node.feature} <= {node.value}\" if node.feature else f\"Class {node.results}\"\n",
        "\n",
        "    # Draw the current node\n",
        "    ax.text(x, y, node_label, ha=\"center\", bbox=dict(facecolor=\"lightblue\", edgecolor=\"black\"))\n",
        "\n",
        "    if parent:\n",
        "        ax.plot([parent[0], x], [parent[1], y], 'k-', lw=1)  # Draw edge\n",
        "        ax.text((parent[0] + x) / 2, (parent[1] + y) / 2, edge_label, fontsize=10, ha=\"center\", color=\"red\")\n",
        "\n",
        "    # Recursively add branches\n",
        "    left_x, left_y = x - dx / level, y - dy\n",
        "    right_x, right_y = x + dx / level, y - dy\n",
        "\n",
        "    if node.true_branch:\n",
        "        plot_tree(node.true_branch, left_x, left_y, dx, dy, level + 1, ax, (x, y), \"Yes\")\n",
        "\n",
        "    if node.false_branch:\n",
        "        plot_tree(node.false_branch, right_x, right_y, dx, dy, level + 1, ax, (x, y), \"No\")\n",
        "\n",
        "def visualize_tree(root_node):\n",
        "    \"\"\"\n",
        "    Generates and plots the decision tree using Matplotlib.\n",
        "    \"\"\"\n",
        "    plot_tree(root_node)\n",
        "    plt.title(\"Decision Tree Visualization (Matplotlib Only)\")\n",
        "    plt.show()\n",
        "\n",
        "# Call the function with your root node\n",
        "visualize_tree(decision_tree)\n"
      ],
      "metadata": {
        "colab": {
          "base_uri": "https://localhost:8080/",
          "height": 498
        },
        "id": "SAGuIxtjOqXJ",
        "outputId": "83edd5ef-8b52-424f-cb4e-b9b07e2cd31b"
      },
      "execution_count": 43,
      "outputs": [
        {
          "output_type": "display_data",
          "data": {
            "text/plain": [
              "<Figure size 1200x800 with 1 Axes>"
            ],
            "image/png": "[encoded data removed]"
          },
          "metadata": {}
        }
      ]
    },
    {
      "cell_type": "code",
      "source": [
        "pred=predict(decision_tree, X_test[0])"
      ],
      "metadata": {
        "id": "imBkFEWDQl68"
      },
      "execution_count": 44,
      "outputs": []
    },
    {
      "cell_type": "code",
      "source": [
        "pred"
      ],
      "metadata": {
        "colab": {
          "base_uri": "https://localhost:8080/"
        },
        "id": "JA2hUP5vRnc2",
        "outputId": "39ec1c4a-f15c-45e4-eba4-c2e15728c447"
      },
      "execution_count": 45,
      "outputs": [
        {
          "output_type": "execute_result",
          "data": {
            "text/plain": [
              "1"
            ]
          },
          "metadata": {},
          "execution_count": 45
        }
      ]
    },
    {
      "cell_type": "code",
      "source": [
        "y_test[0]"
      ],
      "metadata": {
        "colab": {
          "base_uri": "https://localhost:8080/"
        },
        "id": "p1igl9JxRoUq",
        "outputId": "bafbbcad-2c5e-4a4c-92f2-ee05b392deae"
      },
      "execution_count": 47,
      "outputs": [
        {
          "output_type": "execute_result",
          "data": {
            "text/plain": [
              "1"
            ]
          },
          "metadata": {},
          "execution_count": 47
        }
      ]
    },
    {
      "cell_type": "code",
      "source": [],
      "metadata": {
        "id": "P_jU0MZ2RrFv"
      },
      "execution_count": null,
      "outputs": []
    }
  ]
}